{
 "cells": [
  {
   "cell_type": "markdown",
   "id": "9b0aa6f9-84d0-4a3d-b96d-af639c3ae221",
   "metadata": {},
   "source": [
    "# Benchmarking the surface code"
   ]
  },
  {
   "cell_type": "code",
   "execution_count": 1,
   "id": "b0629aba-ff12-4ba3-9078-c03920444dc9",
   "metadata": {},
   "outputs": [],
   "source": [
    "import numpy as np\n",
    "import matplotlib.pyplot as plt\n",
    "import time\n",
    "\n",
    "import stim\n",
    "from pymatching import Matching\n",
    "\n",
    "from hyperedge_decomposition import decompose_dem, from_dem_to_stim, from_stim_to_dem"
   ]
  },
  {
   "cell_type": "code",
   "execution_count": 10,
   "id": "1f89fe61-dd1f-4beb-972c-310e7f61808a",
   "metadata": {},
   "outputs": [],
   "source": [
    "rounds = 30\n",
    "DISTANCE = 5\n",
    "after_clifford_depolarization = 0.01\n",
    "NUM_SHOTS = 1_000_000"
   ]
  },
  {
   "cell_type": "code",
   "execution_count": 11,
   "id": "59b018a4-ecf1-4c61-b673-2187c1a4edb9",
   "metadata": {},
   "outputs": [
    {
     "name": "stdout",
     "output_type": "stream",
     "text": [
      "round=30   3.038   54.412\n"
     ]
    }
   ],
   "source": [
    "print(f\"round={rounds} \\r\", end=\"\") \n",
    "circuit = stim.Circuit.generated(code_task=\"surface_code:rotated_memory_z\", distance=DISTANCE, rounds=rounds, \n",
    "                                 after_clifford_depolarization=after_clifford_depolarization)\n",
    "\n",
    "t0 = time.time()\n",
    "dem = from_stim_to_dem(circuit.detector_error_model(decompose_errors=True))\n",
    "decom_dem = decompose_dem(dem)\n",
    "decom = from_dem_to_stim(decom_dem)\n",
    "t1 = time.time()\n",
    "print(f\"round={rounds}   {(t1 - t0):0.3f}\\r\", end=\"\") \n",
    "\n",
    "decom_stim = circuit.detector_error_model(decompose_errors=True)\n",
    "\n",
    "sampler = circuit.compile_detector_sampler()\n",
    "defects, log_flips = sampler.sample(shots=NUM_SHOTS, separate_observables=True)\n",
    "\n",
    "MWPM = Matching(decom)\n",
    "MWPM_stim = Matching(decom_stim)\n",
    "\n",
    "t2 = time.time()\n",
    "predictions = MWPM.decode_batch(defects)\n",
    "predictions_stim = MWPM_stim.decode_batch(defects)\n",
    "print(f\"round={rounds}   {(t1 - t0):0.3f}   {(time.time() - t2):0.3f}\") \n",
    "\n",
    "log_prob = np.average(predictions != log_flips)\n",
    "log_prob_stim = np.average(predictions_stim != log_flips)"
   ]
  },
  {
   "cell_type": "code",
   "execution_count": 12,
   "id": "d4280638-5559-4f5f-bb1a-68a0bd10c35a",
   "metadata": {},
   "outputs": [
    {
     "data": {
      "text/plain": [
       "(0.163391, 0.164938)"
      ]
     },
     "execution_count": 12,
     "metadata": {},
     "output_type": "execute_result"
    }
   ],
   "source": [
    "log_prob, log_prob_stim"
   ]
  },
  {
   "cell_type": "code",
   "execution_count": null,
   "id": "c4925354-f0a5-4b65-9598-714337961d69",
   "metadata": {},
   "outputs": [],
   "source": []
  }
 ],
 "metadata": {
  "kernelspec": {
   "display_name": "Python 3 (ipykernel)",
   "language": "python",
   "name": "python3"
  },
  "language_info": {
   "codemirror_mode": {
    "name": "ipython",
    "version": 3
   },
   "file_extension": ".py",
   "mimetype": "text/x-python",
   "name": "python",
   "nbconvert_exporter": "python",
   "pygments_lexer": "ipython3",
   "version": "3.8.12"
  }
 },
 "nbformat": 4,
 "nbformat_minor": 5
}
