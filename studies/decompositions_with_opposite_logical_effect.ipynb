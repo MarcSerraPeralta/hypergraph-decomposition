{
 "cells": [
  {
   "cell_type": "markdown",
   "id": "7b9bac71-8416-4632-8e19-7d05e43dcfd8",
   "metadata": {},
   "source": [
    "# Understand the decompositions that have a different logical effect"
   ]
  },
  {
   "cell_type": "code",
   "execution_count": 19,
   "id": "d1a03c24-e39d-48f7-9ea1-b7a922c5a1b4",
   "metadata": {},
   "outputs": [],
   "source": [
    "import stim\n",
    "import numpy as np\n",
    "from pymatching import Matching\n",
    "from beliefmatching import BeliefMatching\n",
    "from bp_osd import BP_OSD\n",
    "from hypergraph_decomposition import decompose_dem, from_stim_to_dem, from_dem_to_stim"
   ]
  },
  {
   "cell_type": "markdown",
   "id": "dace5255-440f-4278-8524-eaa0b127f6a0",
   "metadata": {},
   "source": [
    "# check MWPM and BP-OSD performance with ^LO^ and correct decompositions"
   ]
  },
  {
   "cell_type": "code",
   "execution_count": 30,
   "id": "94a4bc41-a760-43bd-8e97-0d5c57f85e91",
   "metadata": {},
   "outputs": [],
   "source": [
    "dem_stim = stim.DetectorErrorModel(\"\"\"\n",
    "error(0.5) D0 D1 D2 D3 L0\n",
    "error(0.1) D0 D1\n",
    "error(0.1) D2 D3\n",
    "error(0.01) D1 D3 \n",
    "error(0.01) D0 D2 L0\n",
    "\"\"\")"
   ]
  },
  {
   "cell_type": "code",
   "execution_count": 31,
   "id": "2b927ac9-da00-492c-b622-46650c7dd672",
   "metadata": {},
   "outputs": [],
   "source": [
    "dem_most_prob = stim.DetectorErrorModel(\"\"\"\n",
    "error(0.5) D0 D1 ^ D2 D3 ^ L0\n",
    "error(0.1) D0 D1\n",
    "error(0.1) D2 D3\n",
    "error(0.01) D1 D3 \n",
    "error(0.01) D0 D2 L0\n",
    "\"\"\")\n",
    "\n",
    "dem_correct = stim.DetectorErrorModel(\"\"\"\n",
    "error(0.5) D3 D1 ^ D2 D0 L0\n",
    "error(0.1) D0 D1\n",
    "error(0.1) D2 D3\n",
    "error(0.01) D1 D3 \n",
    "error(0.01) D0 D2 L0\n",
    "\"\"\")"
   ]
  },
  {
   "cell_type": "code",
   "execution_count": 32,
   "id": "f9ed6f3f-933b-4770-8883-a169ae36ba77",
   "metadata": {},
   "outputs": [
    {
     "name": "stdout",
     "output_type": "stream",
     "text": [
      "[1]\n",
      "[0]\n",
      "[1]\n"
     ]
    }
   ],
   "source": [
    "mwpm_most_prob = Matching(dem_most_prob)\n",
    "mwpm_correct = Matching(dem_correct)\n",
    "\n",
    "defects = np.array([1,1,1,1])\n",
    "log_flip = np.array([1,])\n",
    "\n",
    "bp_osd = BP_OSD(dem_stim)\n",
    "prediction = bp_osd.decode(defects)\n",
    "print(prediction)\n",
    "\n",
    "prediction = mwpm_most_prob.decode(defects)\n",
    "print(prediction)\n",
    "prediction = mwpm_correct.decode(defects)\n",
    "print(prediction)"
   ]
  },
  {
   "cell_type": "code",
   "execution_count": 33,
   "id": "379a3b5f-aef3-47d9-b8c8-f41a038c0aca",
   "metadata": {},
   "outputs": [],
   "source": [
    "dem_stim = stim.DetectorErrorModel(\"\"\"\n",
    "error(0.05) D0 D1 D2 D3 L0\n",
    "error(0.1) D0 D1\n",
    "error(0.1) D2 D3\n",
    "error(0.01) D1 D3 \n",
    "error(0.01) D0 D2 L0\n",
    "\"\"\")"
   ]
  },
  {
   "cell_type": "code",
   "execution_count": 34,
   "id": "673c7309-a9d8-4d11-8a8d-75d18bae271f",
   "metadata": {},
   "outputs": [],
   "source": [
    "dem_most_prob = stim.DetectorErrorModel(\"\"\"\n",
    "error(0.05) D0 D1 ^ D2 D3 ^ L0\n",
    "error(0.1) D0 D1\n",
    "error(0.1) D2 D3\n",
    "error(0.01) D1 D3 \n",
    "error(0.01) D0 D2 L0\n",
    "\"\"\")\n",
    "\n",
    "dem_correct = stim.DetectorErrorModel(\"\"\"\n",
    "error(0.05) D3 D1 ^ D2 D0 L0\n",
    "error(0.1) D0 D1\n",
    "error(0.1) D2 D3\n",
    "error(0.01) D1 D3 \n",
    "error(0.01) D0 D2 L0\n",
    "\"\"\")"
   ]
  },
  {
   "cell_type": "code",
   "execution_count": 35,
   "id": "8494a266-e121-44a1-863f-a3c40fb9f9a4",
   "metadata": {},
   "outputs": [
    {
     "name": "stdout",
     "output_type": "stream",
     "text": [
      "[0]\n",
      "[0]\n",
      "[0]\n"
     ]
    }
   ],
   "source": [
    "mwpm_most_prob = Matching(dem_most_prob)\n",
    "mwpm_correct = Matching(dem_correct)\n",
    "\n",
    "defects = np.array([1,1,1,1])\n",
    "log_flip = np.array([1,])\n",
    "\n",
    "bp_osd = BP_OSD(dem_stim)\n",
    "prediction = bp_osd.decode(defects)\n",
    "print(prediction)\n",
    "\n",
    "prediction = mwpm_most_prob.decode(defects)\n",
    "print(prediction)\n",
    "prediction = mwpm_correct.decode(defects)\n",
    "print(prediction)"
   ]
  },
  {
   "cell_type": "markdown",
   "id": "369ad890-4bed-4fc9-96eb-d2208ba837f4",
   "metadata": {},
   "source": [
    "# Check cases"
   ]
  },
  {
   "cell_type": "code",
   "execution_count": 36,
   "id": "1fdd3fd8-6cfb-4317-9d60-131915244f17",
   "metadata": {},
   "outputs": [],
   "source": [
    "dem_stim = stim.DetectorErrorModel(\"\"\"\n",
    "error(0.5) D0 D1 D2 D3 L0\n",
    "error(0.1) D0 D1\n",
    "error(0.1) D2 D3\n",
    "error(0.01) D1 D3 \n",
    "error(0.01) D0 D2 L0\n",
    "\"\"\")"
   ]
  },
  {
   "cell_type": "code",
   "execution_count": 37,
   "id": "4a2ead7f-43a4-4f4a-99bb-3ec8d7538741",
   "metadata": {},
   "outputs": [
    {
     "name": "stdout",
     "output_type": "stream",
     "text": [
      "Warning: the logical effect of fault id=0 is different than its decomposition: [1, 2]\n"
     ]
    }
   ],
   "source": [
    "dem = from_stim_to_dem(dem_stim)\n",
    "decom_dem = decompose_dem(dem, ignore_logical_error=True)\n",
    "decom_stim = from_dem_to_stim(decom_dem)"
   ]
  },
  {
   "cell_type": "code",
   "execution_count": 38,
   "id": "0880bd76-64ce-42bc-94f7-cb87adaf6f81",
   "metadata": {},
   "outputs": [
    {
     "data": {
      "text/plain": [
       "stim.DetectorErrorModel('''\n",
       "    error(0.1) D0 D1\n",
       "    error(0.1) D2 D3\n",
       "    error(0.01) D1 D3\n",
       "    error(0.01) D0 D2 L0\n",
       "''')"
      ]
     },
     "execution_count": 38,
     "metadata": {},
     "output_type": "execute_result"
    }
   ],
   "source": [
    "decom_stim"
   ]
  },
  {
   "cell_type": "code",
   "execution_count": 39,
   "id": "4bef068f-0c36-4aef-9180-eb5203b2d90c",
   "metadata": {},
   "outputs": [],
   "source": [
    "dem_stim = stim.DetectorErrorModel(\"\"\"\n",
    "error(0.5) D0 D1 D2 D3 L0\n",
    "error(0.01) D0 D1\n",
    "error(0.01) D2 D3\n",
    "error(0.1) D1 D3 \n",
    "error(0.1) D0 D2 L0\n",
    "\"\"\")"
   ]
  },
  {
   "cell_type": "code",
   "execution_count": 40,
   "id": "bc1253cf-f41c-4fc1-b7a2-0432e5620865",
   "metadata": {},
   "outputs": [],
   "source": [
    "dem = from_stim_to_dem(dem_stim)\n",
    "decom_dem = decompose_dem(dem, ignore_logical_error=True)\n",
    "decom_stim = from_dem_to_stim(decom_dem)"
   ]
  },
  {
   "cell_type": "code",
   "execution_count": 41,
   "id": "a0fa32b9-2fba-459a-8da1-86292add78eb",
   "metadata": {},
   "outputs": [
    {
     "data": {
      "text/plain": [
       "stim.DetectorErrorModel('''\n",
       "    error(0.5) D0 D2 L0 ^ D1 D3\n",
       "    error(0.01) D0 D1\n",
       "    error(0.01) D2 D3\n",
       "    error(0.1) D1 D3\n",
       "    error(0.1) D0 D2 L0\n",
       "''')"
      ]
     },
     "execution_count": 41,
     "metadata": {},
     "output_type": "execute_result"
    }
   ],
   "source": [
    "decom_stim"
   ]
  },
  {
   "cell_type": "code",
   "execution_count": null,
   "id": "81ee3678-f64f-4f72-a085-b07d777e83e5",
   "metadata": {},
   "outputs": [],
   "source": []
  }
 ],
 "metadata": {
  "kernelspec": {
   "display_name": "Python 3 (ipykernel)",
   "language": "python",
   "name": "python3"
  },
  "language_info": {
   "codemirror_mode": {
    "name": "ipython",
    "version": 3
   },
   "file_extension": ".py",
   "mimetype": "text/x-python",
   "name": "python",
   "nbconvert_exporter": "python",
   "pygments_lexer": "ipython3",
   "version": "3.8.12"
  }
 },
 "nbformat": 4,
 "nbformat_minor": 5
}
